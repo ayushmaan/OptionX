{
 "cells": [
  {
   "cell_type": "code",
   "execution_count": 1,
   "id": "83e61d60-751d-4838-a2d8-3e8aa282e46b",
   "metadata": {},
   "outputs": [],
   "source": [
    "import pandas as pd\n",
    "import requests\n",
    "import pickle\n",
    "import time\n",
    "from datetime import datetime"
   ]
  },
  {
   "cell_type": "code",
   "execution_count": 2,
   "id": "0bc005a9-ac01-445d-8480-eab3d45e2df8",
   "metadata": {},
   "outputs": [],
   "source": [
    "url=\"https://www.nseindia.com/api/option-chain-indices?symbol=NIFTY\"\n",
    "headers={\n",
    "    \"accept-encoding\":\"gzip, deflate, br\",\n",
    "    \"accept-language\":\"en-GB,en-US;q=0.9,en;q=0.8\",\n",
    "    \"user-agent\":\"Mozilla/5.0 (Macintosh; Intel Mac OS X 10_15_7) AppleWebKit/537.36 (KHTML, like Gecko) Chrome/114.0.0.0 Safari/537.36\"\n",
    "}"
   ]
  },
  {
   "cell_type": "code",
   "execution_count": 3,
   "id": "e18bba2f-1031-4ae2-9203-60bbce275606",
   "metadata": {},
   "outputs": [],
   "source": [
    "session = requests.Session()\n",
    "data = session.get(url,headers=headers).json()[\"records\"][\"data\"]\n",
    "# print(data)\n",
    "now = datetime.now() \n",
    "filename= str(now).split(\".\")[0].replace(\" \",\"_\")+\".pickle\""
   ]
  },
  {
   "cell_type": "code",
   "execution_count": 4,
   "id": "2a2f1c99-4b07-4648-8335-156503ceb7c7",
   "metadata": {},
   "outputs": [],
   "source": [
    "dx = pd.DataFrame(data)"
   ]
  },
  {
   "cell_type": "code",
   "execution_count": 5,
   "id": "fb720ac3-46e8-4505-98e6-804b573110bb",
   "metadata": {},
   "outputs": [],
   "source": [
    "oc_data = []\n",
    "for i in data:\n",
    "    for j,k in i.items():\n",
    "        if j==\"CE\" or j==\"PE\":\n",
    "            info=k\n",
    "            info[\"instrumentType\"]=j\n",
    "            oc_data.append(info)"
   ]
  },
  {
   "cell_type": "code",
   "execution_count": 6,
   "id": "a3e77a9c-8395-49cf-8205-ab2919435aac",
   "metadata": {},
   "outputs": [],
   "source": [
    "oc_df = pd.DataFrame(oc_data)"
   ]
  },
  {
   "cell_type": "code",
   "execution_count": 7,
   "id": "0b970944-e173-4425-b51b-a4785d8c40b3",
   "metadata": {},
   "outputs": [],
   "source": [
    "unique_expiry_list = oc_df[\"expiryDate\"].unique()"
   ]
  },
  {
   "cell_type": "code",
   "execution_count": 8,
   "id": "764aadcb-37ee-46d0-8271-9ee055fec71e",
   "metadata": {},
   "outputs": [],
   "source": [
    "oc_all_exp_data={}\n",
    "for exp in unique_expiry_list:\n",
    "    ocex= oc_df[oc_df[\"expiryDate\"]==exp]\n",
    "\n",
    "\n",
    "\n",
    "    ocex = ocex[[\"strikePrice\",\"lastPrice\",\"openInterest\",\"instrumentType\"]]\n",
    "\n",
    "    ocex = pd.merge(ocex[ocex[\"instrumentType\"]==\"CE\"],ocex[ocex[\"instrumentType\"]==\"PE\"],on=\"strikePrice\")\n",
    "    ocex.columns = ['strikePrice', 'CE_LTP', 'CE_OI', 'instrumentType_x',\n",
    "           'PE_LTP', 'PE_OI', 'instrumentType_y']\n",
    "\n",
    "\n",
    "\n",
    "    oc_dict = {}\n",
    "    for stk in ocex.strikePrice:\n",
    "        # print(stk)\n",
    "        oc_dict[stk] = {\"CE_LTP\":ocex[ocex[\"strikePrice\"]==stk]['CE_LTP'].values[0],\n",
    "    \"CE_OI\":ocex[ocex[\"strikePrice\"]==stk]['CE_OI'].values[0],\n",
    "    \"PE_LTP\":ocex[ocex[\"strikePrice\"]==stk]['PE_LTP'].values[0],\n",
    "    \"PE_OI\":ocex[ocex[\"strikePrice\"]==stk]['PE_OI'].values[0]}\n",
    "    \n",
    "    oc_all_exp_data[exp] = oc_dict\n",
    "    \n",
    "    # print(oc_dict)"
   ]
  },
  {
   "cell_type": "code",
   "execution_count": 12,
   "id": "6c906574-24ed-481e-b50a-abd48dacbe8d",
   "metadata": {},
   "outputs": [],
   "source": [
    "with open(\"oc_data/\"+filename, 'wb') as handle:\n",
    "    pickle.dump(oc_all_exp_data, handle, protocol=pickle.HIGHEST_PROTOCOL)\n",
    "\n"
   ]
  },
  {
   "cell_type": "code",
   "execution_count": 13,
   "id": "3b0d2e26-449e-4354-a915-2b7740947323",
   "metadata": {},
   "outputs": [],
   "source": [
    "with open(\"oc_data/\"+filename, 'rb') as handle:\n",
    "    oc_dataout = pickle.load(handle)"
   ]
  },
  {
   "cell_type": "code",
   "execution_count": null,
   "id": "3648551a-c2b0-4cc3-93bd-c2b65bc3b4d4",
   "metadata": {},
   "outputs": [],
   "source": []
  },
  {
   "cell_type": "code",
   "execution_count": null,
   "id": "0a265755-5d62-4116-a347-3fe4b6f652a7",
   "metadata": {},
   "outputs": [],
   "source": []
  }
 ],
 "metadata": {
  "kernelspec": {
   "display_name": "Python 3 (ipykernel)",
   "language": "python",
   "name": "python3"
  },
  "language_info": {
   "codemirror_mode": {
    "name": "ipython",
    "version": 3
   },
   "file_extension": ".py",
   "mimetype": "text/x-python",
   "name": "python",
   "nbconvert_exporter": "python",
   "pygments_lexer": "ipython3",
   "version": "3.9.13"
  }
 },
 "nbformat": 4,
 "nbformat_minor": 5
}
