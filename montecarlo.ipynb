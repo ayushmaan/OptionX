{
 "cells": [
  {
   "cell_type": "code",
   "execution_count": 6,
   "id": "5bd13f0a-1b9f-4fb6-9d0b-2385bd9cf9df",
   "metadata": {
    "tags": []
   },
   "outputs": [
    {
     "name": "stdout",
     "output_type": "stream",
     "text": [
      "50.0\n",
      "Price: 116.3385\n",
      "60.0\n",
      "Price: 106.4942\n",
      "70.0\n",
      "Price: 96.6499\n",
      "75.0\n",
      "Price: 91.7278\n",
      "85.0\n",
      "Price: 81.8835\n",
      "95.0\n",
      "Price: 72.0392\n",
      "100.0\n",
      "Price: 67.1171\n",
      "110.0\n",
      "Price: 57.2728\n",
      "115.0\n",
      "Price: 52.3506\n",
      "120.0\n",
      "Price: 47.4285\n",
      "125.0\n",
      "Price: 42.5063\n",
      "130.0\n",
      "Price: 37.5842\n",
      "131.0\n",
      "Price: 36.5998\n",
      "132.0\n",
      "Price: 35.6153\n",
      "133.0\n",
      "Price: 34.6309\n",
      "134.0\n",
      "Price: 33.6465\n",
      "135.0\n",
      "Price: 32.6620\n",
      "136.0\n"
     ]
    },
    {
     "ename": "KeyboardInterrupt",
     "evalue": "",
     "output_type": "error",
     "traceback": [
      "\u001b[0;31m---------------------------------------------------------------------------\u001b[0m",
      "\u001b[0;31mKeyboardInterrupt\u001b[0m                         Traceback (most recent call last)",
      "Cell \u001b[0;32mIn[6], line 39\u001b[0m\n\u001b[1;32m     37\u001b[0m K \u001b[38;5;241m=\u001b[39m call\u001b[38;5;241m.\u001b[39miloc[i][\u001b[38;5;124m'\u001b[39m\u001b[38;5;124mstrike\u001b[39m\u001b[38;5;124m'\u001b[39m]\n\u001b[1;32m     38\u001b[0m \u001b[38;5;28mprint\u001b[39m(K)\n\u001b[0;32m---> 39\u001b[0m \u001b[43mfinalPrice\u001b[49m\u001b[43m(\u001b[49m\u001b[43mS\u001b[49m\u001b[43m,\u001b[49m\u001b[43mv\u001b[49m\u001b[43m,\u001b[49m\u001b[43mr\u001b[49m\u001b[43m,\u001b[49m\u001b[43mT\u001b[49m\u001b[43m,\u001b[49m\u001b[43mK\u001b[49m\u001b[43m)\u001b[49m\n",
      "Cell \u001b[0;32mIn[6], line 25\u001b[0m, in \u001b[0;36mfinalPrice\u001b[0;34m(S, v, r, T, K)\u001b[0m\n\u001b[1;32m     22\u001b[0m discount_factor \u001b[38;5;241m=\u001b[39m exp(\u001b[38;5;241m-\u001b[39mr \u001b[38;5;241m*\u001b[39m T)\n\u001b[1;32m     24\u001b[0m \u001b[38;5;28;01mfor\u001b[39;00m i \u001b[38;5;129;01min\u001b[39;00m \u001b[38;5;28mrange\u001b[39m(simulations):\n\u001b[0;32m---> 25\u001b[0m     S_T \u001b[38;5;241m=\u001b[39m \u001b[43mmonterCarloPriceGenerator\u001b[49m\u001b[43m(\u001b[49m\u001b[43mS\u001b[49m\u001b[43m,\u001b[49m\u001b[43mv\u001b[49m\u001b[43m,\u001b[49m\u001b[43mr\u001b[49m\u001b[43m,\u001b[49m\u001b[43mT\u001b[49m\u001b[43m)\u001b[49m\n\u001b[1;32m     26\u001b[0m     payoffs\u001b[38;5;241m.\u001b[39mappend(call_payoff(S_T, K))\n\u001b[1;32m     27\u001b[0m price \u001b[38;5;241m=\u001b[39m discount_factor \u001b[38;5;241m*\u001b[39m (\u001b[38;5;28msum\u001b[39m(payoffs) \u001b[38;5;241m/\u001b[39m \u001b[38;5;28mfloat\u001b[39m(simulations))\n",
      "Cell \u001b[0;32mIn[6], line 9\u001b[0m, in \u001b[0;36mmonterCarloPriceGenerator\u001b[0;34m(sP, vol, rfi, time_diff)\u001b[0m\n\u001b[1;32m      8\u001b[0m \u001b[38;5;28;01mdef\u001b[39;00m \u001b[38;5;21mmonterCarloPriceGenerator\u001b[39m(sP, vol, rfi, time_diff):\n\u001b[0;32m----> 9\u001b[0m \tprice \u001b[38;5;241m=\u001b[39m sP\u001b[38;5;241m*\u001b[39mexp((rfi \u001b[38;5;241m-\u001b[39m \u001b[38;5;241m0.5\u001b[39m\u001b[38;5;241m*\u001b[39mvol\u001b[38;5;241m*\u001b[39m\u001b[38;5;241m*\u001b[39m\u001b[38;5;241m2\u001b[39m)\u001b[38;5;241m*\u001b[39mtime_diff\u001b[38;5;241m+\u001b[39m vol\u001b[38;5;241m*\u001b[39m\u001b[43msqrt\u001b[49m\u001b[43m(\u001b[49m\u001b[43mtime_diff\u001b[49m\u001b[43m)\u001b[49m\u001b[38;5;241m*\u001b[39mgauss(\u001b[38;5;241m0\u001b[39m,\u001b[38;5;241m1.0\u001b[39m))\n\u001b[1;32m     10\u001b[0m \t\u001b[38;5;28;01mreturn\u001b[39;00m price\n",
      "\u001b[0;31mKeyboardInterrupt\u001b[0m: "
     ]
    }
   ],
   "source": [
    "import datetime\n",
    "from random import gauss\n",
    "from math import exp,sqrt\n",
    "import yfinance as yf\n",
    "import pandas as pd\n",
    "\n",
    "\n",
    "def monterCarloPriceGenerator(sP, vol, rfi, time_diff):\n",
    "\tprice = sP*exp((rfi - 0.5*vol**2)*time_diff+ vol*sqrt(time_diff)*gauss(0,1.0))\n",
    "\treturn price\n",
    "\n",
    "def call_payoff(sT, k):\n",
    "\treturn max(sT-k, 0)\n",
    "#Stock\n",
    "s = yf.Ticker('AAPL')\n",
    "opt = s.option_chain('2023-04-14')\n",
    "call= opt.calls \n",
    "\n",
    "def finalPrice(S,v,r,T,K):\n",
    "\tsimulations = 900000\n",
    "\tpayoffs = []\n",
    "\tdiscount_factor = exp(-r * T)\n",
    "\n",
    "\tfor i in range(simulations):\n",
    "\t    S_T = monterCarloPriceGenerator(S,v,r,T)\n",
    "\t    payoffs.append(call_payoff(S_T, K))\n",
    "\tprice = discount_factor * (sum(payoffs) / float(simulations))\n",
    "\tprint ('Price: %.4f' % price)\n",
    "\n",
    "#print(call.iloc[30]['impliedVolatility'])\n",
    "#print(call.head(40))\n",
    "S = s.history(period = \"max\")['Close'].iloc[-1]\n",
    "r = 0.17900  # rate of 0.14%\n",
    "T = (datetime.date(2023,4,24) - datetime.date(2023,3,23)).days / 365.0\n",
    "for i in range(len(call)):\n",
    "\tv = call.iloc[i]['impliedVolatility']\n",
    "\tK = call.iloc[i]['strike']\n",
    "\tprint(K)\n",
    "\tfinalPrice(S,v,r,T,K)"
   ]
  },
  {
   "cell_type": "code",
   "execution_count": 3,
   "id": "557fc503-f8f4-4453-9f77-8c8fe85720ea",
   "metadata": {
    "tags": []
   },
   "outputs": [
    {
     "name": "stdout",
     "output_type": "stream",
     "text": [
      "Collecting yfinance\n",
      "  Downloading yfinance-0.2.17-py2.py3-none-any.whl (60 kB)\n",
      "\u001b[2K     \u001b[90m━━━━━━━━━━━━━━━━━━━━━━━━━━━━━━━━━━━━━━━━\u001b[0m \u001b[32m60.3/60.3 kB\u001b[0m \u001b[31m1.0 MB/s\u001b[0m eta \u001b[36m0:00:00\u001b[0ma \u001b[36m0:00:01\u001b[0m\n",
      "\u001b[?25hRequirement already satisfied: pytz>=2022.5 in /home/asusu/PYTORCH/lib/python3.10/site-packages (from yfinance) (2023.3)\n",
      "Collecting frozendict>=2.3.4\n",
      "  Downloading frozendict-2.3.7-cp310-cp310-manylinux_2_17_x86_64.manylinux2014_x86_64.whl (114 kB)\n",
      "\u001b[2K     \u001b[90m━━━━━━━━━━━━━━━━━━━━━━━━━━━━━━━━━━━━━━━\u001b[0m \u001b[32m114.9/114.9 kB\u001b[0m \u001b[31m1.6 MB/s\u001b[0m eta \u001b[36m0:00:00\u001b[0m00:01\u001b[0m00:01\u001b[0m\n",
      "\u001b[?25hCollecting lxml>=4.9.1\n",
      "  Using cached lxml-4.9.2-cp310-cp310-manylinux_2_17_x86_64.manylinux2014_x86_64.manylinux_2_24_x86_64.whl (7.1 MB)\n",
      "Collecting appdirs>=1.4.4\n",
      "  Using cached appdirs-1.4.4-py2.py3-none-any.whl (9.6 kB)\n",
      "Requirement already satisfied: pandas>=1.3.0 in /home/asusu/PYTORCH/lib/python3.10/site-packages (from yfinance) (1.5.3)\n",
      "Requirement already satisfied: numpy>=1.16.5 in /home/asusu/PYTORCH/lib/python3.10/site-packages (from yfinance) (1.24.2)\n",
      "Collecting cryptography>=3.3.2\n",
      "  Downloading cryptography-40.0.1-cp36-abi3-manylinux_2_28_x86_64.whl (3.7 MB)\n",
      "\u001b[2K     \u001b[90m━━━━━━━━━━━━━━━━━━━━━━━━━━━━━━━━━━━━━━━━\u001b[0m \u001b[32m3.7/3.7 MB\u001b[0m \u001b[31m1.7 MB/s\u001b[0m eta \u001b[36m0:00:00\u001b[0m00:01\u001b[0m00:01\u001b[0m\n",
      "\u001b[?25hCollecting multitasking>=0.0.7\n",
      "  Using cached multitasking-0.0.11-py3-none-any.whl (8.5 kB)\n",
      "Requirement already satisfied: requests>=2.26 in /home/asusu/PYTORCH/lib/python3.10/site-packages (from yfinance) (2.28.2)\n",
      "Requirement already satisfied: beautifulsoup4>=4.11.1 in /home/asusu/PYTORCH/lib/python3.10/site-packages (from yfinance) (4.12.0)\n",
      "Collecting html5lib>=1.1\n",
      "  Using cached html5lib-1.1-py2.py3-none-any.whl (112 kB)\n",
      "Requirement already satisfied: soupsieve>1.2 in /home/asusu/PYTORCH/lib/python3.10/site-packages (from beautifulsoup4>=4.11.1->yfinance) (2.4)\n",
      "Requirement already satisfied: cffi>=1.12 in /home/asusu/PYTORCH/lib/python3.10/site-packages (from cryptography>=3.3.2->yfinance) (1.15.1)\n",
      "Requirement already satisfied: six>=1.9 in /home/asusu/PYTORCH/lib/python3.10/site-packages (from html5lib>=1.1->yfinance) (1.16.0)\n",
      "Requirement already satisfied: webencodings in /home/asusu/PYTORCH/lib/python3.10/site-packages (from html5lib>=1.1->yfinance) (0.5.1)\n",
      "Requirement already satisfied: python-dateutil>=2.8.1 in /home/asusu/PYTORCH/lib/python3.10/site-packages (from pandas>=1.3.0->yfinance) (2.8.2)\n",
      "Requirement already satisfied: idna<4,>=2.5 in /home/asusu/PYTORCH/lib/python3.10/site-packages (from requests>=2.26->yfinance) (3.4)\n",
      "Requirement already satisfied: certifi>=2017.4.17 in /home/asusu/PYTORCH/lib/python3.10/site-packages (from requests>=2.26->yfinance) (2022.12.7)\n",
      "Requirement already satisfied: urllib3<1.27,>=1.21.1 in /home/asusu/PYTORCH/lib/python3.10/site-packages (from requests>=2.26->yfinance) (1.26.15)\n",
      "Requirement already satisfied: charset-normalizer<4,>=2 in /home/asusu/PYTORCH/lib/python3.10/site-packages (from requests>=2.26->yfinance) (3.1.0)\n",
      "Requirement already satisfied: pycparser in /home/asusu/PYTORCH/lib/python3.10/site-packages (from cffi>=1.12->cryptography>=3.3.2->yfinance) (2.21)\n",
      "Installing collected packages: multitasking, appdirs, lxml, html5lib, frozendict, cryptography, yfinance\n",
      "Successfully installed appdirs-1.4.4 cryptography-40.0.1 frozendict-2.3.7 html5lib-1.1 lxml-4.9.2 multitasking-0.0.11 yfinance-0.2.17\n"
     ]
    }
   ],
   "source": [
    "# !pip install yfinance"
   ]
  },
  {
   "cell_type": "code",
   "execution_count": null,
   "id": "28c28003-ed72-4668-b867-58b8a635f80a",
   "metadata": {},
   "outputs": [],
   "source": []
  }
 ],
 "metadata": {
  "kernelspec": {
   "display_name": "Python 3 (ipykernel)",
   "language": "python",
   "name": "python3"
  },
  "language_info": {
   "codemirror_mode": {
    "name": "ipython",
    "version": 3
   },
   "file_extension": ".py",
   "mimetype": "text/x-python",
   "name": "python",
   "nbconvert_exporter": "python",
   "pygments_lexer": "ipython3",
   "version": "3.10.6"
  }
 },
 "nbformat": 4,
 "nbformat_minor": 5
}
