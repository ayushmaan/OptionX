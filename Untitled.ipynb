{
 "cells": [
  {
   "cell_type": "code",
   "execution_count": 40,
   "id": "e0464da1-01c6-4e31-ac00-a165e6417d54",
   "metadata": {
    "tags": []
   },
   "outputs": [
    {
     "ename": "ValueError",
     "evalue": "unconverted data remains:  09:15:00",
     "output_type": "error",
     "traceback": [
      "\u001b[0;31m---------------------------------------------------------------------------\u001b[0m",
      "\u001b[0;31mValueError\u001b[0m                                Traceback (most recent call last)",
      "Cell \u001b[0;32mIn[40], line 16\u001b[0m\n\u001b[1;32m     14\u001b[0m \u001b[38;5;66;03m# Load the bar feed from the CSV file\u001b[39;00m\n\u001b[1;32m     15\u001b[0m feed \u001b[38;5;241m=\u001b[39m quandlfeed\u001b[38;5;241m.\u001b[39mFeed()\n\u001b[0;32m---> 16\u001b[0m \u001b[43mfeed\u001b[49m\u001b[38;5;241;43m.\u001b[39;49m\u001b[43maddBarsFromCSV\u001b[49m\u001b[43m(\u001b[49m\u001b[38;5;124;43m\"\u001b[39;49m\u001b[38;5;124;43mNIFTY\u001b[39;49m\u001b[38;5;124;43m\"\u001b[39;49m\u001b[43m,\u001b[49m\u001b[43m \u001b[49m\u001b[38;5;124;43m\"\u001b[39;49m\u001b[38;5;124;43mdata/niftyDRENAME.csv\u001b[39;49m\u001b[38;5;124;43m\"\u001b[39;49m\u001b[43m)\u001b[49m\n\u001b[1;32m     18\u001b[0m \u001b[38;5;66;03m# Evaluate the strategy with the feed's bars.\u001b[39;00m\n\u001b[1;32m     19\u001b[0m myStrategy \u001b[38;5;241m=\u001b[39m MyStrategy(feed, \u001b[38;5;124m\"\u001b[39m\u001b[38;5;124mNIFTY\u001b[39m\u001b[38;5;124m\"\u001b[39m)\n",
      "File \u001b[0;32m~/PYTORCH/lib/python3.10/site-packages/pyalgotrade/barfeed/csvfeed.py:294\u001b[0m, in \u001b[0;36mGenericBarFeed.addBarsFromCSV\u001b[0;34m(self, instrument, path, timezone, skipMalformedBars)\u001b[0m\n\u001b[1;32m    287\u001b[0m     timezone \u001b[38;5;241m=\u001b[39m \u001b[38;5;28mself\u001b[39m\u001b[38;5;241m.\u001b[39m__timezone\n\u001b[1;32m    289\u001b[0m rowParser \u001b[38;5;241m=\u001b[39m GenericRowParser(\n\u001b[1;32m    290\u001b[0m     \u001b[38;5;28mself\u001b[39m\u001b[38;5;241m.\u001b[39m__columnNames, \u001b[38;5;28mself\u001b[39m\u001b[38;5;241m.\u001b[39m__dateTimeFormat, \u001b[38;5;28mself\u001b[39m\u001b[38;5;241m.\u001b[39mgetDailyBarTime(), \u001b[38;5;28mself\u001b[39m\u001b[38;5;241m.\u001b[39mgetFrequency(),\n\u001b[1;32m    291\u001b[0m     timezone, \u001b[38;5;28mself\u001b[39m\u001b[38;5;241m.\u001b[39m__barClass\n\u001b[1;32m    292\u001b[0m )\n\u001b[0;32m--> 294\u001b[0m \u001b[38;5;28;43msuper\u001b[39;49m\u001b[43m(\u001b[49m\u001b[43mGenericBarFeed\u001b[49m\u001b[43m,\u001b[49m\u001b[43m \u001b[49m\u001b[38;5;28;43mself\u001b[39;49m\u001b[43m)\u001b[49m\u001b[38;5;241;43m.\u001b[39;49m\u001b[43maddBarsFromCSV\u001b[49m\u001b[43m(\u001b[49m\u001b[43minstrument\u001b[49m\u001b[43m,\u001b[49m\u001b[43m \u001b[49m\u001b[43mpath\u001b[49m\u001b[43m,\u001b[49m\u001b[43m \u001b[49m\u001b[43mrowParser\u001b[49m\u001b[43m,\u001b[49m\u001b[43m \u001b[49m\u001b[43mskipMalformedBars\u001b[49m\u001b[38;5;241;43m=\u001b[39;49m\u001b[43mskipMalformedBars\u001b[49m\u001b[43m)\u001b[49m\n\u001b[1;32m    296\u001b[0m \u001b[38;5;28;01mif\u001b[39;00m rowParser\u001b[38;5;241m.\u001b[39mbarsHaveAdjClose():\n\u001b[1;32m    297\u001b[0m     \u001b[38;5;28mself\u001b[39m\u001b[38;5;241m.\u001b[39m__haveAdjClose \u001b[38;5;241m=\u001b[39m \u001b[38;5;28;01mTrue\u001b[39;00m\n",
      "File \u001b[0;32m~/PYTORCH/lib/python3.10/site-packages/pyalgotrade/barfeed/csvfeed.py:135\u001b[0m, in \u001b[0;36mBarFeed.addBarsFromCSV\u001b[0;34m(self, instrument, path, rowParser, skipMalformedBars)\u001b[0m\n\u001b[1;32m    133\u001b[0m reader \u001b[38;5;241m=\u001b[39m csvutils\u001b[38;5;241m.\u001b[39mFastDictReader(\u001b[38;5;28mopen\u001b[39m(path, \u001b[38;5;124m\"\u001b[39m\u001b[38;5;124mr\u001b[39m\u001b[38;5;124m\"\u001b[39m), fieldnames\u001b[38;5;241m=\u001b[39mrowParser\u001b[38;5;241m.\u001b[39mgetFieldNames(), delimiter\u001b[38;5;241m=\u001b[39mrowParser\u001b[38;5;241m.\u001b[39mgetDelimiter())\n\u001b[1;32m    134\u001b[0m \u001b[38;5;28;01mfor\u001b[39;00m row \u001b[38;5;129;01min\u001b[39;00m reader:\n\u001b[0;32m--> 135\u001b[0m     bar_ \u001b[38;5;241m=\u001b[39m \u001b[43mparse_bar\u001b[49m\u001b[43m(\u001b[49m\u001b[43mrow\u001b[49m\u001b[43m)\u001b[49m\n\u001b[1;32m    136\u001b[0m     \u001b[38;5;28;01mif\u001b[39;00m bar_ \u001b[38;5;129;01mis\u001b[39;00m \u001b[38;5;129;01mnot\u001b[39;00m \u001b[38;5;28;01mNone\u001b[39;00m \u001b[38;5;129;01mand\u001b[39;00m (\u001b[38;5;28mself\u001b[39m\u001b[38;5;241m.\u001b[39m__barFilter \u001b[38;5;129;01mis\u001b[39;00m \u001b[38;5;28;01mNone\u001b[39;00m \u001b[38;5;129;01mor\u001b[39;00m \u001b[38;5;28mself\u001b[39m\u001b[38;5;241m.\u001b[39m__barFilter\u001b[38;5;241m.\u001b[39mincludeBar(bar_)):\n\u001b[1;32m    137\u001b[0m         loadedBars\u001b[38;5;241m.\u001b[39mappend(bar_)\n",
      "File \u001b[0;32m~/PYTORCH/lib/python3.10/site-packages/pyalgotrade/barfeed/csvfeed.py:181\u001b[0m, in \u001b[0;36mGenericRowParser.parseBar\u001b[0;34m(self, csvRowDict)\u001b[0m\n\u001b[1;32m    180\u001b[0m \u001b[38;5;28;01mdef\u001b[39;00m \u001b[38;5;21mparseBar\u001b[39m(\u001b[38;5;28mself\u001b[39m, csvRowDict):\n\u001b[0;32m--> 181\u001b[0m     dateTime \u001b[38;5;241m=\u001b[39m \u001b[38;5;28;43mself\u001b[39;49m\u001b[38;5;241;43m.\u001b[39;49m\u001b[43m_parseDate\u001b[49m\u001b[43m(\u001b[49m\u001b[43mcsvRowDict\u001b[49m\u001b[43m[\u001b[49m\u001b[38;5;28;43mself\u001b[39;49m\u001b[38;5;241;43m.\u001b[39;49m\u001b[43m__dateTimeColName\u001b[49m\u001b[43m]\u001b[49m\u001b[43m)\u001b[49m\n\u001b[1;32m    182\u001b[0m     open_ \u001b[38;5;241m=\u001b[39m \u001b[38;5;28mfloat\u001b[39m(csvRowDict[\u001b[38;5;28mself\u001b[39m\u001b[38;5;241m.\u001b[39m__openColName])\n\u001b[1;32m    183\u001b[0m     high \u001b[38;5;241m=\u001b[39m \u001b[38;5;28mfloat\u001b[39m(csvRowDict[\u001b[38;5;28mself\u001b[39m\u001b[38;5;241m.\u001b[39m__highColName])\n",
      "File \u001b[0;32m~/PYTORCH/lib/python3.10/site-packages/pyalgotrade/barfeed/csvfeed.py:161\u001b[0m, in \u001b[0;36mGenericRowParser._parseDate\u001b[0;34m(self, dateString)\u001b[0m\n\u001b[1;32m    160\u001b[0m \u001b[38;5;28;01mdef\u001b[39;00m \u001b[38;5;21m_parseDate\u001b[39m(\u001b[38;5;28mself\u001b[39m, dateString):\n\u001b[0;32m--> 161\u001b[0m     ret \u001b[38;5;241m=\u001b[39m \u001b[43mdatetime\u001b[49m\u001b[38;5;241;43m.\u001b[39;49m\u001b[43mdatetime\u001b[49m\u001b[38;5;241;43m.\u001b[39;49m\u001b[43mstrptime\u001b[49m\u001b[43m(\u001b[49m\u001b[43mdateString\u001b[49m\u001b[43m,\u001b[49m\u001b[43m \u001b[49m\u001b[38;5;28;43mself\u001b[39;49m\u001b[38;5;241;43m.\u001b[39;49m\u001b[43m__dateTimeFormat\u001b[49m\u001b[43m)\u001b[49m\n\u001b[1;32m    163\u001b[0m     \u001b[38;5;28;01mif\u001b[39;00m \u001b[38;5;28mself\u001b[39m\u001b[38;5;241m.\u001b[39m__dailyBarTime \u001b[38;5;129;01mis\u001b[39;00m \u001b[38;5;129;01mnot\u001b[39;00m \u001b[38;5;28;01mNone\u001b[39;00m:\n\u001b[1;32m    164\u001b[0m         ret \u001b[38;5;241m=\u001b[39m datetime\u001b[38;5;241m.\u001b[39mdatetime\u001b[38;5;241m.\u001b[39mcombine(ret, \u001b[38;5;28mself\u001b[39m\u001b[38;5;241m.\u001b[39m__dailyBarTime)\n",
      "File \u001b[0;32m/usr/lib/python3.10/_strptime.py:568\u001b[0m, in \u001b[0;36m_strptime_datetime\u001b[0;34m(cls, data_string, format)\u001b[0m\n\u001b[1;32m    565\u001b[0m \u001b[38;5;28;01mdef\u001b[39;00m \u001b[38;5;21m_strptime_datetime\u001b[39m(\u001b[38;5;28mcls\u001b[39m, data_string, \u001b[38;5;28mformat\u001b[39m\u001b[38;5;241m=\u001b[39m\u001b[38;5;124m\"\u001b[39m\u001b[38;5;132;01m%a\u001b[39;00m\u001b[38;5;124m \u001b[39m\u001b[38;5;124m%\u001b[39m\u001b[38;5;124mb \u001b[39m\u001b[38;5;132;01m%d\u001b[39;00m\u001b[38;5;124m \u001b[39m\u001b[38;5;124m%\u001b[39m\u001b[38;5;124mH:\u001b[39m\u001b[38;5;124m%\u001b[39m\u001b[38;5;124mM:\u001b[39m\u001b[38;5;124m%\u001b[39m\u001b[38;5;124mS \u001b[39m\u001b[38;5;124m%\u001b[39m\u001b[38;5;124mY\u001b[39m\u001b[38;5;124m\"\u001b[39m):\n\u001b[1;32m    566\u001b[0m \u001b[38;5;250m    \u001b[39m\u001b[38;5;124;03m\"\"\"Return a class cls instance based on the input string and the\u001b[39;00m\n\u001b[1;32m    567\u001b[0m \u001b[38;5;124;03m    format string.\"\"\"\u001b[39;00m\n\u001b[0;32m--> 568\u001b[0m     tt, fraction, gmtoff_fraction \u001b[38;5;241m=\u001b[39m \u001b[43m_strptime\u001b[49m\u001b[43m(\u001b[49m\u001b[43mdata_string\u001b[49m\u001b[43m,\u001b[49m\u001b[43m \u001b[49m\u001b[38;5;28;43mformat\u001b[39;49m\u001b[43m)\u001b[49m\n\u001b[1;32m    569\u001b[0m     tzname, gmtoff \u001b[38;5;241m=\u001b[39m tt[\u001b[38;5;241m-\u001b[39m\u001b[38;5;241m2\u001b[39m:]\n\u001b[1;32m    570\u001b[0m     args \u001b[38;5;241m=\u001b[39m tt[:\u001b[38;5;241m6\u001b[39m] \u001b[38;5;241m+\u001b[39m (fraction,)\n",
      "File \u001b[0;32m/usr/lib/python3.10/_strptime.py:352\u001b[0m, in \u001b[0;36m_strptime\u001b[0;34m(data_string, format)\u001b[0m\n\u001b[1;32m    349\u001b[0m     \u001b[38;5;28;01mraise\u001b[39;00m \u001b[38;5;167;01mValueError\u001b[39;00m(\u001b[38;5;124m\"\u001b[39m\u001b[38;5;124mtime data \u001b[39m\u001b[38;5;132;01m%r\u001b[39;00m\u001b[38;5;124m does not match format \u001b[39m\u001b[38;5;132;01m%r\u001b[39;00m\u001b[38;5;124m\"\u001b[39m \u001b[38;5;241m%\u001b[39m\n\u001b[1;32m    350\u001b[0m                      (data_string, \u001b[38;5;28mformat\u001b[39m))\n\u001b[1;32m    351\u001b[0m \u001b[38;5;28;01mif\u001b[39;00m \u001b[38;5;28mlen\u001b[39m(data_string) \u001b[38;5;241m!=\u001b[39m found\u001b[38;5;241m.\u001b[39mend():\n\u001b[0;32m--> 352\u001b[0m     \u001b[38;5;28;01mraise\u001b[39;00m \u001b[38;5;167;01mValueError\u001b[39;00m(\u001b[38;5;124m\"\u001b[39m\u001b[38;5;124munconverted data remains: \u001b[39m\u001b[38;5;132;01m%s\u001b[39;00m\u001b[38;5;124m\"\u001b[39m \u001b[38;5;241m%\u001b[39m\n\u001b[1;32m    353\u001b[0m                       data_string[found\u001b[38;5;241m.\u001b[39mend():])\n\u001b[1;32m    355\u001b[0m iso_year \u001b[38;5;241m=\u001b[39m year \u001b[38;5;241m=\u001b[39m \u001b[38;5;28;01mNone\u001b[39;00m\n\u001b[1;32m    356\u001b[0m month \u001b[38;5;241m=\u001b[39m day \u001b[38;5;241m=\u001b[39m \u001b[38;5;241m1\u001b[39m\n",
      "\u001b[0;31mValueError\u001b[0m: unconverted data remains:  09:15:00"
     ]
    }
   ],
   "source": [
    "from pyalgotrade import strategy\n",
    "from pyalgotrade.barfeed import quandlfeed\n",
    "\n",
    "\n",
    "class MyStrategy(strategy.BacktestingStrategy):\n",
    "    def __init__(self, feed, instrument):\n",
    "        super(MyStrategy, self).__init__(feed)\n",
    "        self.__instrument = instrument\n",
    "\n",
    "    def onBars(self, bars):\n",
    "        bar = bars[self.__instrument]\n",
    "        self.info(bar.getClose())\n",
    "\n",
    "# Load the bar feed from the CSV file\n",
    "feed = quandlfeed.Feed()\n",
    "feed.addBarsFromCSV(\"NIFTY\", \"data/niftyDRENAME.csv\")\n",
    "\n",
    "# Evaluate the strategy with the feed's bars.\n",
    "myStrategy = MyStrategy(feed, \"NIFTY\")\n",
    "myStrategy.run()"
   ]
  },
  {
   "cell_type": "code",
   "execution_count": 5,
   "id": "6021dfb6-43ea-4ead-b44e-bc6bf5be10a8",
   "metadata": {
    "tags": []
   },
   "outputs": [],
   "source": [
    "# !pip install pyalgotrade"
   ]
  },
  {
   "cell_type": "code",
   "execution_count": 34,
   "id": "f669c5ad-fd7f-4845-baf7-18eec186e5d3",
   "metadata": {
    "tags": []
   },
   "outputs": [],
   "source": [
    "import pandas as pd\n",
    "import datetime"
   ]
  },
  {
   "cell_type": "code",
   "execution_count": 30,
   "id": "018d5a30-da6c-4df3-936c-a5b86fcd9633",
   "metadata": {
    "tags": []
   },
   "outputs": [],
   "source": [
    "data = pd.read_csv(\"data/niftyDRENAME.csv\")\n",
    "\n"
   ]
  },
  {
   "cell_type": "code",
   "execution_count": 35,
   "id": "9916c9bf-f92d-4e17-aae3-875347ac9e6e",
   "metadata": {
    "tags": []
   },
   "outputs": [
    {
     "data": {
      "text/plain": [
       "datetime.datetime(1990, 7, 3, 9, 15)"
      ]
     },
     "execution_count": 35,
     "metadata": {},
     "output_type": "execute_result"
    }
   ],
   "source": [
    "datetime.datetime.strptime(data.Date[0], '%Y-%m-%d %H:%M:%S')"
   ]
  },
  {
   "cell_type": "code",
   "execution_count": 36,
   "id": "2c5a4079-a685-4acb-a416-52612ecc5f22",
   "metadata": {
    "tags": []
   },
   "outputs": [],
   "source": [
    "data[\"Date\"] = data[\"Date\"].apply(lambda x:datetime.datetime.strptime(x, '%Y-%m-%d %H:%M:%S') )"
   ]
  },
  {
   "cell_type": "code",
   "execution_count": 11,
   "id": "52818f91-3f93-4692-a420-840ae409e42d",
   "metadata": {
    "tags": []
   },
   "outputs": [],
   "source": [
    "data.columns = ['Date', 'Symbol', 'Open', 'High', 'Low', 'Close', 'Volume']"
   ]
  },
  {
   "cell_type": "code",
   "execution_count": 39,
   "id": "c442a801-a9ef-4901-9631-aa716a8f29bc",
   "metadata": {
    "tags": []
   },
   "outputs": [],
   "source": [
    "data.to_csv(\"data/niftyDRENAME.csv\",index=False)"
   ]
  },
  {
   "cell_type": "code",
   "execution_count": null,
   "id": "9481b060-c75d-404a-82e9-92e4dcb03a9d",
   "metadata": {
    "tags": []
   },
   "outputs": [],
   "source": []
  },
  {
   "cell_type": "code",
   "execution_count": 18,
   "id": "fd807b9f-72c8-4ae0-b057-1cb2663e97d8",
   "metadata": {
    "tags": []
   },
   "outputs": [
    {
     "ename": "SyntaxError",
     "evalue": "invalid syntax (3490154579.py, line 1)",
     "output_type": "error",
     "traceback": [
      "\u001b[0;36m  Cell \u001b[0;32mIn[18], line 1\u001b[0;36m\u001b[0m\n\u001b[0;31m    python -m \"pyalgotrade.tools.quandl\" --source-code=\"WIKI\" --table-code=\"ORCL\" --from-year=2000 --to-year=2000 --storage=. --force-download --frequency=daily\u001b[0m\n\u001b[0m              ^\u001b[0m\n\u001b[0;31mSyntaxError\u001b[0m\u001b[0;31m:\u001b[0m invalid syntax\n"
     ]
    }
   ],
   "source": [
    "python -m \"pyalgotrade.tools.quandl\" --source-code=\"WIKI\" --table-code=\"ORCL\" --from-year=2000 --to-year=2000 --storage=. --force-download --frequency=daily"
   ]
  },
  {
   "cell_type": "code",
   "execution_count": null,
   "id": "62e810aa-5b31-4484-be21-c2b77337ae4a",
   "metadata": {
    "tags": []
   },
   "outputs": [],
   "source": []
  },
  {
   "cell_type": "code",
   "execution_count": 38,
   "id": "a03a6fe9-b6c5-40c1-b718-0becc7f40364",
   "metadata": {
    "tags": []
   },
   "outputs": [
    {
     "data": {
      "text/html": [
       "<div>\n",
       "<style scoped>\n",
       "    .dataframe tbody tr th:only-of-type {\n",
       "        vertical-align: middle;\n",
       "    }\n",
       "\n",
       "    .dataframe tbody tr th {\n",
       "        vertical-align: top;\n",
       "    }\n",
       "\n",
       "    .dataframe thead th {\n",
       "        text-align: right;\n",
       "    }\n",
       "</style>\n",
       "<table border=\"1\" class=\"dataframe\">\n",
       "  <thead>\n",
       "    <tr style=\"text-align: right;\">\n",
       "      <th></th>\n",
       "      <th>Date</th>\n",
       "      <th>Symbol</th>\n",
       "      <th>Open</th>\n",
       "      <th>High</th>\n",
       "      <th>Low</th>\n",
       "      <th>Close</th>\n",
       "      <th>Volume</th>\n",
       "    </tr>\n",
       "  </thead>\n",
       "  <tbody>\n",
       "    <tr>\n",
       "      <th>0</th>\n",
       "      <td>1990-07-03 09:15:00</td>\n",
       "      <td>NSE:NIFTY</td>\n",
       "      <td>279.01999</td>\n",
       "      <td>279.01999</td>\n",
       "      <td>279.01999</td>\n",
       "      <td>279.01999</td>\n",
       "      <td>0.0</td>\n",
       "    </tr>\n",
       "    <tr>\n",
       "      <th>1</th>\n",
       "      <td>1990-07-05 09:15:00</td>\n",
       "      <td>NSE:NIFTY</td>\n",
       "      <td>284.04001</td>\n",
       "      <td>284.04001</td>\n",
       "      <td>284.04001</td>\n",
       "      <td>284.04001</td>\n",
       "      <td>0.0</td>\n",
       "    </tr>\n",
       "    <tr>\n",
       "      <th>2</th>\n",
       "      <td>1990-07-06 09:15:00</td>\n",
       "      <td>NSE:NIFTY</td>\n",
       "      <td>289.04001</td>\n",
       "      <td>289.04001</td>\n",
       "      <td>289.04001</td>\n",
       "      <td>289.04001</td>\n",
       "      <td>0.0</td>\n",
       "    </tr>\n",
       "    <tr>\n",
       "      <th>3</th>\n",
       "      <td>1990-07-09 09:15:00</td>\n",
       "      <td>NSE:NIFTY</td>\n",
       "      <td>289.69000</td>\n",
       "      <td>289.69000</td>\n",
       "      <td>289.69000</td>\n",
       "      <td>289.69000</td>\n",
       "      <td>0.0</td>\n",
       "    </tr>\n",
       "    <tr>\n",
       "      <th>4</th>\n",
       "      <td>1990-07-10 09:15:00</td>\n",
       "      <td>NSE:NIFTY</td>\n",
       "      <td>288.69000</td>\n",
       "      <td>288.69000</td>\n",
       "      <td>288.69000</td>\n",
       "      <td>288.69000</td>\n",
       "      <td>0.0</td>\n",
       "    </tr>\n",
       "    <tr>\n",
       "      <th>...</th>\n",
       "      <td>...</td>\n",
       "      <td>...</td>\n",
       "      <td>...</td>\n",
       "      <td>...</td>\n",
       "      <td>...</td>\n",
       "      <td>...</td>\n",
       "      <td>...</td>\n",
       "    </tr>\n",
       "    <tr>\n",
       "      <th>7912</th>\n",
       "      <td>2023-04-06 09:15:00</td>\n",
       "      <td>NSE:NIFTY</td>\n",
       "      <td>17533.85000</td>\n",
       "      <td>17638.69900</td>\n",
       "      <td>17502.85000</td>\n",
       "      <td>17599.15000</td>\n",
       "      <td>242708337.0</td>\n",
       "    </tr>\n",
       "    <tr>\n",
       "      <th>7913</th>\n",
       "      <td>2023-04-10 09:15:00</td>\n",
       "      <td>NSE:NIFTY</td>\n",
       "      <td>17634.90000</td>\n",
       "      <td>17694.10000</td>\n",
       "      <td>17597.94900</td>\n",
       "      <td>17624.05100</td>\n",
       "      <td>254819382.0</td>\n",
       "    </tr>\n",
       "    <tr>\n",
       "      <th>7914</th>\n",
       "      <td>2023-04-11 09:15:00</td>\n",
       "      <td>NSE:NIFTY</td>\n",
       "      <td>17704.80100</td>\n",
       "      <td>17748.75000</td>\n",
       "      <td>17655.15000</td>\n",
       "      <td>17722.30100</td>\n",
       "      <td>304263454.0</td>\n",
       "    </tr>\n",
       "    <tr>\n",
       "      <th>7915</th>\n",
       "      <td>2023-04-12 09:15:00</td>\n",
       "      <td>NSE:NIFTY</td>\n",
       "      <td>17759.55100</td>\n",
       "      <td>17825.75000</td>\n",
       "      <td>17717.25000</td>\n",
       "      <td>17812.40000</td>\n",
       "      <td>232816318.0</td>\n",
       "    </tr>\n",
       "    <tr>\n",
       "      <th>7916</th>\n",
       "      <td>2023-04-13 09:15:00</td>\n",
       "      <td>NSE:NIFTY</td>\n",
       "      <td>17807.30100</td>\n",
       "      <td>17842.15000</td>\n",
       "      <td>17729.65000</td>\n",
       "      <td>17828.00000</td>\n",
       "      <td>285764798.0</td>\n",
       "    </tr>\n",
       "  </tbody>\n",
       "</table>\n",
       "<p>7917 rows × 7 columns</p>\n",
       "</div>"
      ],
      "text/plain": [
       "                    Date     Symbol         Open         High          Low  \\\n",
       "0    1990-07-03 09:15:00  NSE:NIFTY    279.01999    279.01999    279.01999   \n",
       "1    1990-07-05 09:15:00  NSE:NIFTY    284.04001    284.04001    284.04001   \n",
       "2    1990-07-06 09:15:00  NSE:NIFTY    289.04001    289.04001    289.04001   \n",
       "3    1990-07-09 09:15:00  NSE:NIFTY    289.69000    289.69000    289.69000   \n",
       "4    1990-07-10 09:15:00  NSE:NIFTY    288.69000    288.69000    288.69000   \n",
       "...                  ...        ...          ...          ...          ...   \n",
       "7912 2023-04-06 09:15:00  NSE:NIFTY  17533.85000  17638.69900  17502.85000   \n",
       "7913 2023-04-10 09:15:00  NSE:NIFTY  17634.90000  17694.10000  17597.94900   \n",
       "7914 2023-04-11 09:15:00  NSE:NIFTY  17704.80100  17748.75000  17655.15000   \n",
       "7915 2023-04-12 09:15:00  NSE:NIFTY  17759.55100  17825.75000  17717.25000   \n",
       "7916 2023-04-13 09:15:00  NSE:NIFTY  17807.30100  17842.15000  17729.65000   \n",
       "\n",
       "            Close       Volume  \n",
       "0       279.01999          0.0  \n",
       "1       284.04001          0.0  \n",
       "2       289.04001          0.0  \n",
       "3       289.69000          0.0  \n",
       "4       288.69000          0.0  \n",
       "...           ...          ...  \n",
       "7912  17599.15000  242708337.0  \n",
       "7913  17624.05100  254819382.0  \n",
       "7914  17722.30100  304263454.0  \n",
       "7915  17812.40000  232816318.0  \n",
       "7916  17828.00000  285764798.0  \n",
       "\n",
       "[7917 rows x 7 columns]"
      ]
     },
     "execution_count": 38,
     "metadata": {},
     "output_type": "execute_result"
    }
   ],
   "source": [
    "data"
   ]
  },
  {
   "cell_type": "code",
   "execution_count": null,
   "id": "e0721717-f228-4e2a-8f1c-fdbb25cc698c",
   "metadata": {},
   "outputs": [],
   "source": []
  }
 ],
 "metadata": {
  "kernelspec": {
   "display_name": "Python 3 (ipykernel)",
   "language": "python",
   "name": "python3"
  },
  "language_info": {
   "codemirror_mode": {
    "name": "ipython",
    "version": 3
   },
   "file_extension": ".py",
   "mimetype": "text/x-python",
   "name": "python",
   "nbconvert_exporter": "python",
   "pygments_lexer": "ipython3",
   "version": "3.10.6"
  }
 },
 "nbformat": 4,
 "nbformat_minor": 5
}
