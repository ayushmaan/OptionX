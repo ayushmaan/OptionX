{
 "cells": [
  {
   "cell_type": "code",
   "execution_count": 1,
   "id": "9bc18725-245b-4773-a661-d9acc6b54bca",
   "metadata": {
    "tags": []
   },
   "outputs": [],
   "source": [
    "from tvDatafeed import TvDatafeed, Interval\n",
    "\n",
    "username = 'visibleHawk91069'\n",
    "password = 'Ayush321@'\n",
    "\n",
    "tv = TvDatafeed(username, password)"
   ]
  },
  {
   "cell_type": "code",
   "execution_count": 7,
   "id": "92a8dcf0-e0eb-45e6-ad37-b6561c3d8cc3",
   "metadata": {
    "tags": []
   },
   "outputs": [
    {
     "data": {
      "text/plain": [
       "(7917, 6)"
      ]
     },
     "execution_count": 7,
     "metadata": {},
     "output_type": "execute_result"
    }
   ],
   "source": [
    "nifty_index_dataD = tv.get_hist(symbol='NIFTY',exchange='NSE',interval=Interval.in_daily,n_bars=10000)\n",
    "nifty_index_data15m = tv.get_hist(symbol='NIFTY',exchange='NSE',interval=Interval.in_15_minute,n_bars=10000)\n",
    "nifty_index_data5m = tv.get_hist(symbol='NIFTY',exchange='NSE',interval=Interval.in_5_minute,n_bars=10000)\n",
    "nifty_index_data45m = tv.get_hist(symbol='NIFTY',exchange='NSE',interval=Interval.in_45_minute,n_bars=10000)\n",
    "nifty_index_data30m = tv.get_hist(symbol='NIFTY',exchange='NSE',interval=Interval.in_30_minute,n_bars=10000)\n",
    "nifty_index_dataW = tv.get_hist(symbol='NIFTY',exchange='NSE',interval=Interval.in_weekly,n_bars=10000)\n",
    "nifty_index_data2H = tv.get_hist(symbol='NIFTY',exchange='NSE',interval=Interval.in_2_hour,n_bars=10000)\n",
    "nifty_index_data3H = tv.get_hist(symbol='NIFTY',exchange='NSE',interval=Interval.in_3_hour,n_bars=10000)\n",
    "nifty_index_data1H = tv.get_hist(symbol='NIFTY',exchange='NSE',interval=Interval.in_1_hour,n_bars=10000)\n",
    "\n",
    "\n",
    "\n",
    "#nifty_futures_data = tv.get_hist(symbol='NIFTY',exchange='NSE',interval=Interval.in_1_hour,n_bars=1000,fut_contract=1)\n",
    "nifty_index_data.shape"
   ]
  },
  {
   "cell_type": "code",
   "execution_count": 8,
   "id": "b0827d92-eb9e-46d4-961e-70a885faa91f",
   "metadata": {
    "tags": []
   },
   "outputs": [
    {
     "data": {
      "text/html": [
       "<div>\n",
       "<style scoped>\n",
       "    .dataframe tbody tr th:only-of-type {\n",
       "        vertical-align: middle;\n",
       "    }\n",
       "\n",
       "    .dataframe tbody tr th {\n",
       "        vertical-align: top;\n",
       "    }\n",
       "\n",
       "    .dataframe thead th {\n",
       "        text-align: right;\n",
       "    }\n",
       "</style>\n",
       "<table border=\"1\" class=\"dataframe\">\n",
       "  <thead>\n",
       "    <tr style=\"text-align: right;\">\n",
       "      <th></th>\n",
       "      <th>symbol</th>\n",
       "      <th>open</th>\n",
       "      <th>high</th>\n",
       "      <th>low</th>\n",
       "      <th>close</th>\n",
       "      <th>volume</th>\n",
       "    </tr>\n",
       "    <tr>\n",
       "      <th>datetime</th>\n",
       "      <th></th>\n",
       "      <th></th>\n",
       "      <th></th>\n",
       "      <th></th>\n",
       "      <th></th>\n",
       "      <th></th>\n",
       "    </tr>\n",
       "  </thead>\n",
       "  <tbody>\n",
       "    <tr>\n",
       "      <th>1990-07-02 09:15:00</th>\n",
       "      <td>NSE:NIFTY</td>\n",
       "      <td>279.01999</td>\n",
       "      <td>289.04001</td>\n",
       "      <td>279.01999</td>\n",
       "      <td>289.04001</td>\n",
       "      <td>0.0</td>\n",
       "    </tr>\n",
       "    <tr>\n",
       "      <th>1990-07-09 09:15:00</th>\n",
       "      <td>NSE:NIFTY</td>\n",
       "      <td>289.69000</td>\n",
       "      <td>296.34000</td>\n",
       "      <td>288.69000</td>\n",
       "      <td>296.34000</td>\n",
       "      <td>0.0</td>\n",
       "    </tr>\n",
       "    <tr>\n",
       "      <th>1990-07-16 09:15:00</th>\n",
       "      <td>NSE:NIFTY</td>\n",
       "      <td>287.95999</td>\n",
       "      <td>302.59000</td>\n",
       "      <td>287.95999</td>\n",
       "      <td>302.59000</td>\n",
       "      <td>0.0</td>\n",
       "    </tr>\n",
       "    <tr>\n",
       "      <th>1990-07-23 09:15:00</th>\n",
       "      <td>NSE:NIFTY</td>\n",
       "      <td>321.76001</td>\n",
       "      <td>329.64999</td>\n",
       "      <td>321.76001</td>\n",
       "      <td>329.64999</td>\n",
       "      <td>0.0</td>\n",
       "    </tr>\n",
       "    <tr>\n",
       "      <th>1990-07-30 09:15:00</th>\n",
       "      <td>NSE:NIFTY</td>\n",
       "      <td>347.44000</td>\n",
       "      <td>347.44000</td>\n",
       "      <td>337.29001</td>\n",
       "      <td>337.29001</td>\n",
       "      <td>0.0</td>\n",
       "    </tr>\n",
       "  </tbody>\n",
       "</table>\n",
       "</div>"
      ],
      "text/plain": [
       "                        symbol       open       high        low      close  \\\n",
       "datetime                                                                     \n",
       "1990-07-02 09:15:00  NSE:NIFTY  279.01999  289.04001  279.01999  289.04001   \n",
       "1990-07-09 09:15:00  NSE:NIFTY  289.69000  296.34000  288.69000  296.34000   \n",
       "1990-07-16 09:15:00  NSE:NIFTY  287.95999  302.59000  287.95999  302.59000   \n",
       "1990-07-23 09:15:00  NSE:NIFTY  321.76001  329.64999  321.76001  329.64999   \n",
       "1990-07-30 09:15:00  NSE:NIFTY  347.44000  347.44000  337.29001  337.29001   \n",
       "\n",
       "                     volume  \n",
       "datetime                     \n",
       "1990-07-02 09:15:00     0.0  \n",
       "1990-07-09 09:15:00     0.0  \n",
       "1990-07-16 09:15:00     0.0  \n",
       "1990-07-23 09:15:00     0.0  \n",
       "1990-07-30 09:15:00     0.0  "
      ]
     },
     "execution_count": 8,
     "metadata": {},
     "output_type": "execute_result"
    }
   ],
   "source": [
    "nifty_index_dataW.head()"
   ]
  },
  {
   "cell_type": "code",
   "execution_count": 11,
   "id": "415f633d-ec24-4933-aa60-6488a813d30a",
   "metadata": {
    "tags": []
   },
   "outputs": [],
   "source": [
    "nifty_index_dataD.to_csv(\"TVDATAFolder/nifty_index_dataD.csv\")\n",
    "nifty_index_data15m.to_csv(\"TVDATAFolder/nifty_index_data15m.csv\")\n",
    "nifty_index_data5m.to_csv(\"TVDATAFolder/nifty_index_data5m.csv\")\n",
    "nifty_index_data45m.to_csv(\"TVDATAFolder/nifty_index_data45m.csv\")\n",
    "nifty_index_data30m.to_csv(\"TVDATAFolder/nifty_index_data30m.csv\")\n",
    "nifty_index_dataW.to_csv(\"TVDATAFolder/nifty_index_dataW.csv\")\n",
    "nifty_index_data2H.to_csv(\"TVDATAFolder/nifty_index_data2H.csv\")\n",
    "nifty_index_data3H.to_csv(\"TVDATAFolder/nifty_index_data3H.csv\")\n",
    "nifty_index_data1H.to_csv(\"TVDATAFolder/nifty_index_data1H.csv\")\n"
   ]
  },
  {
   "cell_type": "code",
   "execution_count": 13,
   "id": "dd4e871e-f503-4f71-81ef-ec835d2299d3",
   "metadata": {
    "tags": []
   },
   "outputs": [],
   "source": []
  },
  {
   "cell_type": "code",
   "execution_count": 14,
   "id": "61f77250-c423-4416-a6d7-43df602548ba",
   "metadata": {
    "tags": []
   },
   "outputs": [],
   "source": [
    "nifty_index_dataDvix = tv.get_hist(symbol='INDIAVIX',exchange='NSE',interval=Interval.in_daily,n_bars=10000)\n",
    "nifty_index_data15mvix = tv.get_hist(symbol='INDIAVIX',exchange='NSE',interval=Interval.in_15_minute,n_bars=10000)\n",
    "nifty_index_data5mvix = tv.get_hist(symbol='INDIAVIX',exchange='NSE',interval=Interval.in_5_minute,n_bars=10000)\n",
    "nifty_index_data45mvix = tv.get_hist(symbol='INDIAVIX',exchange='NSE',interval=Interval.in_45_minute,n_bars=10000)\n",
    "nifty_index_data30mvix = tv.get_hist(symbol='INDIAVIX',exchange='NSE',interval=Interval.in_30_minute,n_bars=10000)\n",
    "nifty_index_dataWvix = tv.get_hist(symbol='INDIAVIX',exchange='NSE',interval=Interval.in_weekly,n_bars=10000)\n",
    "nifty_index_data2Hvix = tv.get_hist(symbol='INDIAVIX',exchange='NSE',interval=Interval.in_2_hour,n_bars=10000)\n",
    "nifty_index_data3Hvix = tv.get_hist(symbol='INDIAVIX',exchange='NSE',interval=Interval.in_3_hour,n_bars=10000)\n",
    "nifty_index_data1Hvix = tv.get_hist(symbol='INDIAVIX',exchange='NSE',interval=Interval.in_1_hour,n_bars=10000)\n",
    "\n",
    "\n"
   ]
  },
  {
   "cell_type": "code",
   "execution_count": 15,
   "id": "b2d49888-1911-4847-b8a5-f6295bbe7ea6",
   "metadata": {
    "tags": []
   },
   "outputs": [],
   "source": [
    "nifty_index_dataDvix.to_csv(\"TVDATAFolder/nifty_index_dataDvix.csv\")\n",
    "nifty_index_data15mvix.to_csv(\"TVDATAFolder/nifty_index_data15mvix.csv\")\n",
    "nifty_index_data5mvix.to_csv(\"TVDATAFolder/nifty_index_data5mvix.csv\")\n",
    "nifty_index_data45mvix.to_csv(\"TVDATAFolder/nifty_index_data45mvix.csv\")\n",
    "nifty_index_data30mvix.to_csv(\"TVDATAFolder/nifty_index_data30mvix.csv\")\n",
    "nifty_index_dataWvix.to_csv(\"TVDATAFolder/nifty_index_dataWvix.csv\")\n",
    "nifty_index_data2Hvix.to_csv(\"TVDATAFolder/nifty_index_data2Hvix.csv\")\n",
    "nifty_index_data3Hvix.to_csv(\"TVDATAFolder/nifty_index_data3Hvix.csv\")\n",
    "nifty_index_data1Hvix.to_csv(\"TVDATAFolder/nifty_index_data1Hvix.csv\")\n"
   ]
  },
  {
   "cell_type": "code",
   "execution_count": 20,
   "id": "180536dc-dfd9-4de2-bac1-29a15e83f73d",
   "metadata": {
    "tags": []
   },
   "outputs": [
    {
     "data": {
      "text/plain": [
       "(5175, 6)"
      ]
     },
     "execution_count": 20,
     "metadata": {},
     "output_type": "execute_result"
    }
   ],
   "source": [
    "nifty_index_data5m.shape"
   ]
  },
  {
   "cell_type": "code",
   "execution_count": null,
   "id": "0b8ce5db-1576-4a7f-a347-8903e0e63a39",
   "metadata": {},
   "outputs": [],
   "source": []
  }
 ],
 "metadata": {
  "kernelspec": {
   "display_name": "Python 3 (ipykernel)",
   "language": "python",
   "name": "python3"
  },
  "language_info": {
   "codemirror_mode": {
    "name": "ipython",
    "version": 3
   },
   "file_extension": ".py",
   "mimetype": "text/x-python",
   "name": "python",
   "nbconvert_exporter": "python",
   "pygments_lexer": "ipython3",
   "version": "3.10.6"
  }
 },
 "nbformat": 4,
 "nbformat_minor": 5
}
